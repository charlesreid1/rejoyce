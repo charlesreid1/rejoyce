{
 "cells": [
  {
   "cell_type": "markdown",
   "metadata": {},
   "source": [
    "# Analyzing Ulysses with NLTK: Lestrygonians (Ch. 8)\n",
    "\n",
    "## Part II: Sentences and Phrases\n",
    "\n",
    "<br />\n",
    "<br />\n",
    "<br />\n",
    "\n",
    "### Table of Contents\n",
    "* [Introduction](#intro)\n",
    "* Sentences:\n",
    " * [Tokenizing Sentences](#tokenizing_sentences)\n",
    " * [Words with Context](#context)\n",
    " * [Combining Context with Patterns](#context_with_patterns)\n",
    "* [Subject Tagging](#subject)\n",
    "* [Chapter by Chapter Analysis](#chapterbychapter)\n",
    "\n",
    "<br />\n",
    "<br />\n",
    "<br />\n"
   ]
  },
  {
   "cell_type": "markdown",
   "metadata": {},
   "source": [
    "### <a name=\"intro\"></a>\n",
    "## Introduction\n",
    "\n",
    "In Part I, we applied NLTK to James Joyce's _Ulysses_ and found some interesting features of Chapter 8, Lestrygonians. We started by analyzing characters and letter frequencies, and then moved on to words. In this notebook, we'll be looking at phrases. \n",
    "\n",
    "In particular, we'll try and improve the part of speech tagger by looking at the text at the phrase level, and we'll also apply some chunking algorithms to the text to chunk words into phrases based on their parts of speech.\n",
    "\n",
    "Let's start by importing our libraries."
   ]
  },
  {
   "cell_type": "code",
   "execution_count": 2,
   "metadata": {
    "collapsed": false
   },
   "outputs": [],
   "source": [
    "# In case we want to plot something:\n",
    "%matplotlib inline \n",
    "\n",
    "from __future__ import division\n",
    "import nltk, re\n",
    "import numpy as np\n",
    "\n",
    "# The io module makes unicode easier to deal with\n",
    "import io\n",
    "\n",
    "def p():\n",
    "    print \"-\"*20"
   ]
  },
  {
   "cell_type": "code",
   "execution_count": 3,
   "metadata": {
    "collapsed": false
   },
   "outputs": [
    {
     "name": "stdout",
     "output_type": "stream",
     "text": [
      "<type 'unicode'>\n"
     ]
    }
   ],
   "source": [
    "file_contents = io.open('txt/08lestrygonians.txt','r').read()\n",
    "print type(file_contents)"
   ]
  },
  {
   "cell_type": "code",
   "execution_count": 4,
   "metadata": {
    "collapsed": false
   },
   "outputs": [
    {
     "name": "stdout",
     "output_type": "stream",
     "text": [
      "1979\n"
     ]
    }
   ],
   "source": [
    "# Tokenize the chapter using the Punkt Tokenizer:\n",
    "sentences = nltk.sent_tokenize(file_contents)\n",
    "print len(sentences)"
   ]
  },
  {
   "cell_type": "code",
   "execution_count": 5,
   "metadata": {
    "collapsed": false
   },
   "outputs": [
    {
     "name": "stdout",
     "output_type": "stream",
     "text": [
      "[u'Pineapple rock, lemon platt, butter scotch.', u'A sugarsticky girl\\nshovelling scoopfuls of creams for a christian brother.', u'Some school\\ntreat.', u'Bad for their tummies.', u'Lozenge and comfit manufacturer to His\\nMajesty the King.', u'God.', u'Save.', u'Our.', u'Sitting on his throne sucking red\\njujubes white.', u'A sombre Y.M.C.A.', u'young man, watchful among the warm sweet fumes of\\nGraham Lemon\\u2019s, placed a throwaway in a hand of Mr Bloom.', u'Heart to heart talks.', u'Bloo... Me?', u'No.', u'Blood of the Lamb.', u'His slow feet walked him riverward, reading.', u'Are you saved?', u'All are\\nwashed in the blood of the lamb.', u'God wants blood victim.', u'Birth, hymen,\\nmartyr, war, foundation of a building, sacrifice, kidney burntoffering,\\ndruids\\u2019 altars.', u'Elijah is coming.']\n"
     ]
    }
   ],
   "source": [
    "print sentences[:21]"
   ]
  },
  {
   "cell_type": "markdown",
   "metadata": {
    "collapsed": true
   },
   "source": [
    "Now that we've tokenized the text by sentence, we can set to work. The first useful task we'll want to be able to do is to print out a sentence if it contains a given word. We can use a `Text` object and use the `concordance('word')` function, but this only prints out the context - and does not return the sentence or its context.\n",
    "\n",
    "<a name=\"context\"></a>\n",
    "## Words with Context\n",
    "\n",
    "Suppose we want to search for a word, like \"eye\", and we want to return the sentence that contains it, along with two sentences of context (the sentence before, and the sentence after). \n",
    "\n",
    "We can do this by looping through each sentence, breaking it apart using a word tokenizer, and searching for the word of interest. If we find it, we add the prior sentence, current sentence, and next sentence to the list of instances."
   ]
  },
  {
   "cell_type": "code",
   "execution_count": 6,
   "metadata": {
    "collapsed": false
   },
   "outputs": [
    {
     "name": "stdout",
     "output_type": "stream",
     "text": [
      "--------------------\n",
      "Must be selling off some old furniture.\n",
      "Knew her eyes at once from the father.\n",
      "Lobbing about waiting for him.\n",
      "--------------------\n",
      "How is that?\n",
      "His eyes sought answer from the river and saw a rowboat rock at anchor on the treacly swells lazily its plastered board.\n",
      "Kino’s       11/-       Trousers  Good idea that.\n",
      "--------------------\n",
      "No, no.\n",
      "Mr Bloom moved forward, raising his troubled eyes.\n",
      "Think no more about that.\n",
      "--------------------\n",
      "Sister?\n",
      "I am sure she was crossed in love by her eyes.\n",
      "Very hard to bargain with that sort of a woman.\n",
      "--------------------\n",
      "What was the name of that priestylooking chap was always squinting in when he passed?\n",
      "Weak eyes, woman.\n",
      "Stopped in Citron’s saint Kevin’s parade.\n",
      "--------------------\n",
      "—And your lord and master?\n",
      "Mrs Breen turned up her two large eyes.\n",
      "Hasn’t lost them anyhow.\n",
      "--------------------\n",
      "Her hand ceased to rummage.\n",
      "Her eyes fixed themselves on him, wide in alarm, yet smiling.\n",
      "—What?\n",
      "--------------------\n",
      "Let her speak.\n",
      "Look straight in her eyes.\n",
      "I believe you.\n",
      "--------------------\n",
      "Round to Menton’s office.\n",
      "His oyster eyes staring at the postcard.\n",
      "Be a feast for the gods.\n",
      "--------------------\n",
      "How flat they look all of a sudden after.\n",
      "Peaceful eyes.\n",
      "Weight off their mind.\n",
      "--------------------\n",
      "Eaten a bad egg.\n",
      "Poached eyes on ghost.\n",
      "I have a pain.\n",
      "--------------------\n",
      "To aid gentleman in literary work.\n",
      "His eyes followed the high figure in homespun, beard and bicycle, a listening woman at his side.\n",
      "Coming from the vegetarian.\n",
      "--------------------\n",
      "Don’t eat a beefsteak.\n",
      "If you do the eyes of that cow will pursue you through all eternity.\n",
      "They say it’s healthier.\n",
      "--------------------\n",
      "Mr Bloom, quickbreathing, slowlier walking passed Adam court.\n",
      "With a keep quiet relief his eyes took note this is the street here middle of the day of Bob Doran’s bottle shoulders.\n",
      "On his annual bend, M’Coy said.\n",
      "--------------------\n",
      "Take off that white hat.\n",
      "His parboiled eyes.\n",
      "Where is he now?\n",
      "--------------------\n",
      "Men, men, men.\n",
      "Perched on high stools by the bar, hats shoved back, at the tables calling for more bread no charge, swilling, wolfing gobfuls of sloppy food, their eyes bulging, wiping wetted moustaches.\n",
      "A pallid suetfaced young man polished his tumbler knife fork and spoon with his napkin.\n",
      "--------------------\n",
      "Bolting to get it over.\n",
      "Sad booser’s eyes.\n",
      "Bitten off more than he can chew.\n",
      "--------------------\n",
      "Mr Bloom raised two fingers doubtfully to his lips.\n",
      "His eyes said:  —Not here.\n",
      "Don’t see him.\n",
      "--------------------\n",
      "A warm shock of air heat of mustard hanched on Mr Bloom’s heart.\n",
      "He raised his eyes and met the stare of a bilious clock.\n",
      "Two.\n",
      "--------------------\n",
      "Felt so off colour.\n",
      "His eyes unhungrily saw shelves of tins: sardines, gaudy lobsters’ claws.\n",
      "All the odd things people pick up for food.\n",
      "--------------------\n",
      "O wonder!\n",
      "Coolsoft with ointments her hand touched me, caressed: her eyes upon me did not turn away.\n",
      "Ravished over her I lay, full lips full open, kissed her mouth.\n",
      "--------------------\n",
      "Soft warm sticky gumjelly lips.\n",
      "Flowers her eyes were, take me, willing eyes.\n",
      "Pebbles fell.\n",
      "--------------------\n",
      "Screened under ferns she laughed warmfolded.\n",
      "Wildly I lay on her, kissed her: eyes, her lips, her stretched neck beating, woman’s breasts full in her blouse of nun’s veiling, fat nipples upright.\n",
      "Hot I tongued her.\n",
      "--------------------\n",
      "Stuck, the flies buzzed.\n",
      "His downcast eyes followed the silent veining of the oaken slab.\n",
      "Beauty: it curves: curves are beauty.\n",
      "--------------------\n",
      "That was one of the saint Legers of Doneraile.\n",
      "Davy Byrne, sated after his yawn, said with tearwashed eyes:  —And is that a fact?\n",
      "Decent quiet man he is.\n",
      "--------------------\n",
      "Tastes?\n",
      "They say you can’t taste wines with your eyes shut or a cold in the head.\n",
      "Also smoke in the dark they say get no pleasure.\n",
      "--------------------\n",
      "Get on.\n",
      "Making for the museum gate with long windy steps he lifted his eyes.\n",
      "Handsome building.\n",
      "--------------------\n",
      "Didn’t see me perhaps.\n",
      "Light in his eyes.\n",
      "The flutter of his breath came forth in short sighs.\n",
      "--------------------\n",
      "My heart!\n",
      "His eyes beating looked steadfastly at cream curves of stone.\n",
      "Sir Thomas Deane was the Greek architecture.\n"
     ]
    }
   ],
   "source": [
    "small_sentences = sentences[:21]\n",
    "\n",
    "def word_with_context(word,sentences):\n",
    "    final_list = []\n",
    "    for i,sentence in enumerate(sentences):\n",
    "        if i>0 and i<(len(sentences)-1):\n",
    "            words = nltk.word_tokenize(sentence)\n",
    "            if word in words:\n",
    "                final_list.append( [re.sub('\\n',' ',sentences[i-1] ),\n",
    "                                    re.sub('\\n',' ',sentences[i]   ),\n",
    "                                    re.sub('\\n',' ',sentences[i+1] ) ]\n",
    "                                  )\n",
    "    return final_list\n",
    "\n",
    "for i in word_with_context('eyes',sentences):\n",
    "    p()\n",
    "    print '\\n'.join(i)\n",
    "    "
   ]
  },
  {
   "cell_type": "markdown",
   "metadata": {},
   "source": [
    "<a name=\"context_with_patterns\"></a>\n",
    "## Combining Context with Patterns\n",
    "\n",
    "This is a useful function that we can combine with some other conditions - such as searching a wordlist for words matching a certain pattern. Then we can pass a pattern, and get back each word matching our pattern, with three sentences of context. We'll need a wordlist first, which we can obtain by tokenizing each of our sentences."
   ]
  },
  {
   "cell_type": "code",
   "execution_count": 7,
   "metadata": {
    "collapsed": false
   },
   "outputs": [],
   "source": [
    "wordlist = nltk.word_tokenize(file_contents)\n",
    "wordlist = [w.lower() for w in wordlist]\n",
    "english_words = [w for w in nltk.corpus.words.words('en') if w.islower()]\n",
    "z1 = set(wordlist)\n",
    "z2 = set(english_words)"
   ]
  },
  {
   "cell_type": "code",
   "execution_count": 8,
   "metadata": {
    "collapsed": false
   },
   "outputs": [
    {
     "name": "stdout",
     "output_type": "stream",
     "text": [
      "Number of words in Chapter 8: 15153\n",
      "Number of unique words in Ch. 8: 3711\n",
      "Number of words in English dictionary: 210687\n",
      "Numer of words in Ch. 8 in English dictionary: 2280\n"
     ]
    }
   ],
   "source": [
    "print \"Number of words in Chapter 8:\",len(wordlist)\n",
    "print \"Number of unique words in Ch. 8:\",len(z1)\n",
    "print \"Number of words in English dictionary:\",len(z2)\n",
    "print \"Numer of words in Ch. 8 in English dictionary:\",len( z1.intersection(z2) )"
   ]
  },
  {
   "cell_type": "code",
   "execution_count": 9,
   "metadata": {
    "collapsed": false
   },
   "outputs": [
    {
     "name": "stdout",
     "output_type": "stream",
     "text": [
      "1431\n"
     ]
    }
   ],
   "source": [
    "intersection = z1.intersection(z2)\n",
    "non_dictionary_words = z1.symmetric_difference(intersection)\n",
    "print len(non_dictionary_words)"
   ]
  },
  {
   "cell_type": "code",
   "execution_count": 10,
   "metadata": {
    "collapsed": false
   },
   "outputs": [
    {
     "name": "stdout",
     "output_type": "stream",
     "text": [
      "[u'boyl', u'boylan', u'boyle', u'boyne', u'breaks', u'breasts', u'breen', u'breen\\u2019s', u'bricks', u'bridgepiers', u'brighton', u'brillantined', u'brings', u'brogues', u'brother\\u2019s']\n"
     ]
    }
   ],
   "source": [
    "non_dictionary_words = sorted(list(non_dictionary_words))\n",
    "print non_dictionary_words[110:125]"
   ]
  },
  {
   "cell_type": "markdown",
   "metadata": {},
   "source": [
    "We now have a list of words that aren't found in an English dictionary provided by the NLTK corpus, so these have the potential to be interesting words. We'll use these results to print out some context for each word.\n",
    "\n",
    "While we're at it, we can also get word counts of each of these words using a Text object:"
   ]
  },
  {
   "cell_type": "code",
   "execution_count": 11,
   "metadata": {
    "collapsed": false
   },
   "outputs": [
    {
     "name": "stdout",
     "output_type": "stream",
     "text": [
      "Number of occurences of breasts : 1\n"
     ]
    }
   ],
   "source": [
    "text = nltk.Text(wordlist)\n",
    "print \"Number of occurences of\",non_dictionary_words[115],\":\",text.count(non_dictionary_words[113])"
   ]
  },
  {
   "cell_type": "code",
   "execution_count": 12,
   "metadata": {
    "collapsed": false
   },
   "outputs": [
    {
     "name": "stdout",
     "output_type": "stream",
     "text": [
      "Screened under ferns she laughed warmfolded.\n",
      "Wildly I lay on her, kissed her: eyes, her lips, her stretched neck beating, woman’s breasts full in her blouse of nun’s veiling, fat nipples upright.\n",
      "Hot I tongued her.\n"
     ]
    }
   ],
   "source": [
    "result = word_with_context(non_dictionary_words[115],sentences)\n",
    "print '\\n'.join(result[0])"
   ]
  },
  {
   "cell_type": "markdown",
   "metadata": {},
   "source": [
    "The phrase \"woman's breasts full\" is reminiscent of Lady Macbeth's speech from Macbeth, Act 1 Scene 5, when she discovers Duncan is staying the night (it has a somewhat, uh, different tone):\n",
    "\n",
    "<blockquote>\n",
    "Stop up the access and passage to remorse,\n",
    "<br />\n",
    "That no compunctious visitings of nature\n",
    "<br />\n",
    "Shake my fell purpose, nor keep peace between\n",
    "<br />\n",
    "The effect and it! Come to my woman’s breasts,\n",
    "<br />\n",
    "And take my milk for gall, you murd'ring ministers,\n",
    "<br />\n",
    "Wherever in your sightless substances\n",
    "<br />\n",
    "You wait on nature’s mischief.\n",
    "<br />\n",
    "- Macbeth, Act 1, Scene 5\n",
    "</blockquote>\n"
   ]
  },
  {
   "cell_type": "markdown",
   "metadata": {},
   "source": [
    "If instead we wanted to search for words matching a regular expression, we could write a function that takes a regular expression, searches for words matching that expression, and passes them to the `word_with_context()` function."
   ]
  },
  {
   "cell_type": "code",
   "execution_count": 13,
   "metadata": {
    "collapsed": false
   },
   "outputs": [
    {
     "name": "stdout",
     "output_type": "stream",
     "text": [
      "--------------------\n",
      "No.\n",
      "Blood of the Lamb.\n",
      "His slow feet walked him riverward, reading.\n",
      "--------------------\n",
      "Are you saved?\n",
      "All are washed in the blood of the lamb.\n",
      "God wants blood victim.\n",
      "--------------------\n",
      "All are washed in the blood of the lamb.\n",
      "God wants blood victim.\n",
      "Birth, hymen, martyr, war, foundation of a building, sacrifice, kidney burntoffering, druids’ altars.\n",
      "--------------------\n",
      "The phosphorescence, that bluey greeny.\n",
      "Very good for the brain.\n",
      "From Butler’s monument house corner he glanced along Bachelor’s walk.\n",
      "--------------------\n",
      "His reverence: mum’s the word.\n",
      "Good Lord, that poor child’s dress is in flitters.\n",
      "Underfed she looks too.\n",
      "--------------------\n",
      "If I threw myself down?\n",
      "Reuben J’s son must have swallowed a good bellyful of that sewage.\n",
      "One and eightpence too much.\n",
      "--------------------\n",
      "His eyes sought answer from the river and saw a rowboat rock at anchor on the treacly swells lazily its plastered board.\n",
      "Kino’s       11/-       Trousers  Good idea that.\n",
      "Wonder if he pays rent to the corporation.\n",
      "--------------------\n",
      "Because life is a stream.\n",
      "All kinds of places are good for ads.\n",
      "That quack doctor for the clap used to be stuck up in all the greenhouses.\n",
      "--------------------\n",
      "Parallax.\n",
      "I never exactly understood.\n",
      "There’s a priest.\n",
      "--------------------\n",
      "Y lagging behind drew a chunk of bread from under his foreboard, crammed it into his mouth and munched as he walked.\n",
      "Our staple food.\n",
      "Three bob a day, walking along the gutters, street after street.\n",
      "--------------------\n",
      "The heavy noonreek tickled the top of Mr Bloom’s gullet.\n",
      "Want to make good pastry, butter, best flour, Demerara sugar, or they’d taste it with the hot tea.\n",
      "Or is it from her?\n",
      "--------------------\n",
      "Or is it from her?\n",
      "A barefoot arab stood over the grating, breathing in the fumes.\n",
      "Deaden the gnaw of hunger that way.\n",
      "--------------------\n",
      "Like to answer them all.\n",
      "Good system for criminals.\n",
      "Code.\n",
      "--------------------\n",
      "And the other one Lizzie Twigg.\n",
      "My literary efforts have had the good fortune to meet with the approval of the eminent poet A. E. (Mr Geo.\n",
      "Russell).\n",
      "--------------------\n",
      "First to the meet and in at the death.\n",
      "Strong as a brood mare some of those horsey women.\n",
      "Swagger around livery stables.\n",
      "--------------------\n",
      "Only one lump of sugar in my tea, if you please.\n",
      "He stood at Fleet street crossing.\n",
      "Luncheon interval.\n",
      "--------------------\n",
      "Nine she had.\n",
      "A good layer.\n",
      "Old woman that lived in a shoe she had so many children.\n",
      "--------------------\n",
      "Here goes.\n",
      "Here’s good luck.\n",
      "Must be thrilling from the air.\n",
      "--------------------\n",
      "Foodheated faces, sweating helmets, patting their truncheons.\n",
      "After their feed with a good load of fat soup under their belts.\n",
      "Policeman’s lot is oft a happy one.\n",
      "--------------------\n",
      "Michaelmas goose.\n",
      "Here’s a good lump of thyme seasoning under the apron for you.\n",
      "Have another quart of goosegrease before it gets too cold.\n",
      "--------------------\n",
      "Three hundred kicked the bucket.\n",
      "Other three hundred born, washing the blood off, all are washed in the blood of the lamb, bawling maaaaaa.\n",
      "Cityful passing away, other cityful coming, passing away too: other coming on, passing on.\n",
      "--------------------\n",
      "Three hundred kicked the bucket.\n",
      "Other three hundred born, washing the blood off, all are washed in the blood of the lamb, bawling maaaaaa.\n",
      "Cityful passing away, other cityful coming, passing away too: other coming on, passing on.\n",
      "--------------------\n",
      "Esthetes they are.\n",
      "I wouldn’t be surprised if it was that kind of food you see produces the like waves of the brain the poetical.\n",
      "For example one of those policemen sweating Irish stew into their shirts you couldn’t squeeze a line of poetry out of him.\n",
      "--------------------\n",
      "Don’t know what poetry is even.\n",
      "Must be in a certain mood.\n",
      "The dreamy cloudy gull      Waves o’er the waters dull.\n",
      "--------------------\n",
      "The dreamy cloudy gull      Waves o’er the waters dull.\n",
      "He crossed at Nassau street corner and stood before the window of Yeates and Son, pricing the fieldglasses.\n",
      "Or will I drop into old Harris’s and have a chat with young Sinclair?\n"
     ]
    }
   ],
   "source": [
    "def re_with_context(rex,sentences):\n",
    "    final_list = []\n",
    "    for i,sentence in enumerate(sentences):\n",
    "        if i>0 and i<(len(sentences)-1):\n",
    "            words = nltk.word_tokenize(sentence)\n",
    "            for word in words:\n",
    "                if len(re.findall(rex,word))>0:\n",
    "                    final_list.append( [re.sub('\\n',' ',sentences[i-1] ),\n",
    "                                        re.sub('\\n',' ',sentences[i]   ),\n",
    "                                        re.sub('\\n',' ',sentences[i+1] ) ]\n",
    "                                      )\n",
    "    return final_list\n",
    "\n",
    "for i,ss in enumerate(re_with_context(r'ood\\b',sentences)):\n",
    "    if i<25:\n",
    "        p()\n",
    "        print '\\n'.join(ss)"
   ]
  },
  {
   "cell_type": "markdown",
   "metadata": {},
   "source": [
    "Now, we are able to pass words and regular expressions, and get a few sentences of context back in return. We can use various techniques to identify keywords, or provide keywords from a file, or from a list. We could iterate through a file containing any of the following things:\n",
    "* Beverages\n",
    "* Food items\n",
    "* Kitchen items\n",
    "* Numbers\n",
    "* Colors\n",
    "* Animals\n",
    "\n",
    "We can also look for particular phonetic sounds, which often occur in groups (as we can see from the word searches above, many of the sentences are repeated because the \"ood\" pattern often shows up repeatedly over a few sentences.\n",
    "\n",
    "We can also look for patterns across the chapters - something we haven't done yet, since we've been focusing on Chapter 8 alone, as a smaller and more manageable body of text.\n",
    "\n",
    "First, let's expand on that context function, to print out N sentences of context:"
   ]
  },
  {
   "cell_type": "code",
   "execution_count": 14,
   "metadata": {
    "collapsed": false
   },
   "outputs": [
    {
     "name": "stdout",
     "output_type": "stream",
     "text": [
      "--------------------\n",
      "Dedalus’ daughter there still outside Dillon’s auctionrooms.\n",
      "Must be selling off some old furniture.\n",
      "Knew her eyes at once from the father.\n",
      "Lobbing about waiting for him.\n",
      "Home always breaks up when the mother goes.\n",
      "--------------------\n",
      "But then why is it that saltwater fish are not salty?\n",
      "How is that?\n",
      "His eyes sought answer from the river and saw a rowboat rock at anchor on the treacly swells lazily its plastered board.\n",
      "Kino’s       11/-       Trousers  Good idea that.\n",
      "Wonder if he pays rent to the corporation.\n",
      "--------------------\n",
      "He wouldn’t surely?\n",
      "No, no.\n",
      "Mr Bloom moved forward, raising his troubled eyes.\n",
      "Think no more about that.\n",
      "After one.\n",
      "--------------------\n",
      "Sister?\n",
      "Sister?\n",
      "I am sure she was crossed in love by her eyes.\n",
      "Very hard to bargain with that sort of a woman.\n",
      "I disturbed her at her devotions that morning.\n",
      "--------------------\n",
      "Stream of life.\n",
      "What was the name of that priestylooking chap was always squinting in when he passed?\n",
      "Weak eyes, woman.\n",
      "Stopped in Citron’s saint Kevin’s parade.\n",
      "Pen something.\n",
      "--------------------\n",
      "Funeral was this morning.\n",
      "Your funeral’s tomorrow       While you’re coming through the rye.\n",
      "Diddlediddle dumdum       Diddlediddle...  —Sad to lose the old friends, Mrs Breen’s womaneyes said melancholily.\n",
      "Now that’s quite enough about that.\n",
      "Just: quietly: husband.\n",
      "--------------------\n",
      "Just: quietly: husband.\n",
      "—And your lord and master?\n",
      "Mrs Breen turned up her two large eyes.\n",
      "Hasn’t lost them anyhow.\n",
      "—O, don’t be talking!\n",
      "--------------------\n",
      "Do you know what he did last night?\n",
      "Her hand ceased to rummage.\n",
      "Her eyes fixed themselves on him, wide in alarm, yet smiling.\n",
      "—What?\n",
      "Mr Bloom asked.\n",
      "--------------------\n",
      "Mr Bloom asked.\n",
      "Let her speak.\n",
      "Look straight in her eyes.\n",
      "I believe you.\n",
      "Trust me.\n",
      "--------------------\n",
      "Wrote it for a lark in the Scotch house I bet anything.\n",
      "Round to Menton’s office.\n",
      "His oyster eyes staring at the postcard.\n",
      "Be a feast for the gods.\n",
      "He passed the Irish Times.\n",
      "--------------------\n",
      "Phthisis retires for the time being, then returns.\n",
      "How flat they look all of a sudden after.\n",
      "Peaceful eyes.\n",
      "Weight off their mind.\n",
      "Old Mrs Thornton was a jolly old soul.\n",
      "--------------------\n",
      "Look at the woebegone walk of him.\n",
      "Eaten a bad egg.\n",
      "Poached eyes on ghost.\n",
      "I have a pain.\n",
      "Great man’s brother: his brother’s brother.\n",
      "--------------------\n",
      "Not saying a word.\n",
      "To aid gentleman in literary work.\n",
      "His eyes followed the high figure in homespun, beard and bicycle, a listening woman at his side.\n",
      "Coming from the vegetarian.\n",
      "Only weggebobbles and fruit.\n",
      "--------------------\n",
      "Only weggebobbles and fruit.\n",
      "Don’t eat a beefsteak.\n",
      "If you do the eyes of that cow will pursue you through all eternity.\n",
      "They say it’s healthier.\n",
      "Windandwatery though.\n",
      "--------------------\n",
      "Must.\n",
      "Mr Bloom, quickbreathing, slowlier walking passed Adam court.\n",
      "With a keep quiet relief his eyes took note this is the street here middle of the day of Bob Doran’s bottle shoulders.\n",
      "On his annual bend, M’Coy said.\n",
      "They drink in order to say or do something or cherchez la femme.\n",
      "--------------------\n",
      "Coarse red: fun for drunkards: guffaw and smoke.\n",
      "Take off that white hat.\n",
      "His parboiled eyes.\n",
      "Where is he now?\n",
      "Beggar somewhere.\n",
      "--------------------\n",
      "See the animals feed.\n",
      "Men, men, men.\n",
      "Perched on high stools by the bar, hats shoved back, at the tables calling for more bread no charge, swilling, wolfing gobfuls of sloppy food, their eyes bulging, wiping wetted moustaches.\n",
      "A pallid suetfaced young man polished his tumbler knife fork and spoon with his napkin.\n",
      "New set of microbes.\n",
      "--------------------\n",
      "Chump chop from the grill.\n",
      "Bolting to get it over.\n",
      "Sad booser’s eyes.\n",
      "Bitten off more than he can chew.\n",
      "Am I like that?\n",
      "--------------------\n",
      "Did you, faith?\n",
      "Mr Bloom raised two fingers doubtfully to his lips.\n",
      "His eyes said:  —Not here.\n",
      "Don’t see him.\n",
      "Out.\n",
      "--------------------\n",
      "Isn’t Blazes Boylan mixed up in it?\n",
      "A warm shock of air heat of mustard hanched on Mr Bloom’s heart.\n",
      "He raised his eyes and met the stare of a bilious clock.\n",
      "Two.\n",
      "Pub clock five minutes fast.\n",
      "--------------------\n",
      "I wanted that badly.\n",
      "Felt so off colour.\n",
      "His eyes unhungrily saw shelves of tins: sardines, gaudy lobsters’ claws.\n",
      "All the odd things people pick up for food.\n",
      "Out of shells, periwinkles with a pin, off trees, snails out of the ground the French eat, out of the sea with bait on a hook.\n",
      "--------------------\n",
      "Pillowed on my coat she had her hair, earwigs in the heather scrub my hand under her nape, you’ll toss me all.\n",
      "O wonder!\n",
      "Coolsoft with ointments her hand touched me, caressed: her eyes upon me did not turn away.\n",
      "Ravished over her I lay, full lips full open, kissed her mouth.\n",
      "Yum.\n",
      "--------------------\n",
      "Young life, her lips that gave me pouting.\n",
      "Soft warm sticky gumjelly lips.\n",
      "Flowers her eyes were, take me, willing eyes.\n",
      "Pebbles fell.\n",
      "She lay still.\n",
      "--------------------\n",
      "Young life, her lips that gave me pouting.\n",
      "Soft warm sticky gumjelly lips.\n",
      "Flowers her eyes were, take me, willing eyes.\n",
      "Pebbles fell.\n",
      "She lay still.\n",
      "--------------------\n",
      "High on Ben Howth rhododendrons a nannygoat walking surefooted, dropping currants.\n",
      "Screened under ferns she laughed warmfolded.\n",
      "Wildly I lay on her, kissed her: eyes, her lips, her stretched neck beating, woman’s breasts full in her blouse of nun’s veiling, fat nipples upright.\n",
      "Hot I tongued her.\n",
      "She kissed me.\n",
      "--------------------\n",
      "And me now.\n",
      "Stuck, the flies buzzed.\n",
      "His downcast eyes followed the silent veining of the oaken slab.\n",
      "Beauty: it curves: curves are beauty.\n",
      "Shapely goddesses, Venus, Juno: curves the world admires.\n",
      "--------------------\n",
      "But be damned but they smelt her out and swore her in on the spot a master mason.\n",
      "That was one of the saint Legers of Doneraile.\n",
      "Davy Byrne, sated after his yawn, said with tearwashed eyes:  —And is that a fact?\n",
      "Decent quiet man he is.\n",
      "I often saw him in here and I never once saw him—you know, over the line.\n",
      "--------------------\n",
      "Don Giovanni, thou hast me invited      To come to supper tonight,      The rum the rumdum.\n",
      "Doesn’t go properly.\n",
      "Keyes: two months if I get Nannetti to.\n",
      "That’ll be two pounds ten about two pounds eight.\n",
      "Three Hynes owes me.\n",
      "--------------------\n",
      "Then the spring, the summer: smells.\n",
      "Tastes?\n",
      "They say you can’t taste wines with your eyes shut or a cold in the head.\n",
      "Also smoke in the dark they say get no pleasure.\n",
      "And with a woman, for instance.\n",
      "--------------------\n",
      "Handel.\n",
      "What about going out there: Ballsbridge.\n",
      "Drop in on Keyes.\n",
      "No use sticking to him like a leech.\n",
      "Wear out my welcome.\n",
      "--------------------\n",
      "Not see.\n",
      "Get on.\n",
      "Making for the museum gate with long windy steps he lifted his eyes.\n",
      "Handsome building.\n",
      "Sir Thomas Deane designed.\n",
      "--------------------\n",
      "Not following me?\n",
      "Didn’t see me perhaps.\n",
      "Light in his eyes.\n",
      "The flutter of his breath came forth in short sighs.\n",
      "Quick.\n",
      "--------------------\n",
      "Just at the gate.\n",
      "My heart!\n",
      "His eyes beating looked steadfastly at cream curves of stone.\n",
      "Sir Thomas Deane was the Greek architecture.\n",
      "Look for something I.\n"
     ]
    }
   ],
   "source": [
    "def re_with_context(rex,sentences,n_sentences):\n",
    "    final_list = []\n",
    "    half = (int)(np.floor(n_sentences/2))\n",
    "    for i,sentence in enumerate(sentences):\n",
    "        if i>=half and i<(len(sentences) - half):\n",
    "            words = nltk.word_tokenize(sentence)\n",
    "            for word in words:\n",
    "                if len(re.findall(rex,word))>0:\n",
    "                    short_list = []\n",
    "                    for s in sentences[i-half:i] + sentences[i:i+half+1]:\n",
    "                        short_list.append( re.sub(r'[\\n\\t]',' ',s) )\n",
    "                    final_list.append(short_list)\n",
    "    return final_list\n",
    "\n",
    "for group in re_with_context('eyes',sentences,5):\n",
    "    p()\n",
    "    print '\\n'.join(group)\n"
   ]
  },
  {
   "cell_type": "markdown",
   "metadata": {},
   "source": [
    "<a name=\"chapterbychapter\"></a>\n",
    "## Chapter-by-Chapter Analysis\n",
    "\n",
    "If we want to start analyzing _Ulysses_ as a whole and look for connections across chapters, we'll need objects to store data about each chapter, objects that will encapsulate much of the functionality laid out in Part I and Part II of these notebooks.\n",
    "\n",
    "To design such an object, a `Lestrygonians` object, we would first want to define a UlyssesChapter object. The constructor would take a text file representing the chapter. There would be a number of methods to get useful lists, dictionaries, or sets.\n",
    "\n",
    "Useful lists:\n",
    "* List of tokens representing words and word boundaries\n",
    "* List of tokens representing all words turned into lowercase\n",
    "* List of tokens representing only the lowercase words\n",
    "* List of sentences\n",
    "* If the chapter has a more complicated structure, such as 07 Aeolus or 15 Circe, then a special/custom parser would be needed and different methods available (list of headlines, or list of characters, or lists of dialogue)\n",
    "\n",
    "Useful dictionaries:\n",
    "* Word counts - all words\n",
    "* Word counts - unique words (would count base words toward base) (eyes --> eye)\n",
    "\n",
    "Useful sets:\n",
    "* Unique words appearing in this chapter\n",
    "\n",
    "Building wordlists:\n",
    "* Use a set of words, and search for larger words containing them.\n",
    " * Example: `['orange','yellow','green','blue','indigo','rose','violet']` becomes `[u'blue', u'greenhouses', u'greens', u'penrose', u'orangepeels', u'bluecoat', u'orangegroves', u'greeny', u'yellow', u'bluey', u'yellowgreen', u'green', u'rose', u'blues', u'greenwich']` \n",
    " * Not perfect, but it can certainly be improved\n",
    "\n",
    "\n"
   ]
  },
  {
   "cell_type": "markdown",
   "metadata": {},
   "source": [
    "<a name=\"subject\"></a>\n",
    "## Word and Subject Tagging\n",
    "\n",
    "While it would be a long and labor-intensive process to build a grammar parser that could understand, even at a primitive level, the text of Ulysses, we can get some useful information from some very dumb tags.\n",
    "\n",
    "In other words, by tagging various sentences, based on the words contained in them, we can find themes that run throughout the novel - from objects that appear and reappear (soap, eyes, bread) to people (Martin Cunningham, Cashel Boyle O'Connor Fitzmaurice Tisdall Farrell, Molly) and more complex phrases (references to Shakespeare, for instance, that can be detected with word overlap).\n",
    "\n",
    "These can be organized into a frequency matrix, with rows for each word in the body of text, and columns for each word, theme, tag, etc.\n",
    "\n",
    "You could also create a similar matrix for sentences, and based on the words in the sentence, you could create subject matter tagging. \n",
    "\n",
    "The appearance and disappearance of various characters would be marvelous. \n",
    "\n",
    "Even a list of characters would be great."
   ]
  },
  {
   "cell_type": "code",
   "execution_count": 15,
   "metadata": {
    "collapsed": false
   },
   "outputs": [
    {
     "name": "stdout",
     "output_type": "stream",
     "text": [
      "15153\n"
     ]
    }
   ],
   "source": [
    "words = nltk.word_tokenize(file_contents)\n",
    "print len(words)"
   ]
  },
  {
   "cell_type": "code",
   "execution_count": 16,
   "metadata": {
    "collapsed": true
   },
   "outputs": [],
   "source": [
    "import pandas as pd"
   ]
  },
  {
   "cell_type": "code",
   "execution_count": 63,
   "metadata": {
    "collapsed": false
   },
   "outputs": [
    {
     "name": "stdout",
     "output_type": "stream",
     "text": [
      "           words  cream\n",
      "0      Pineapple      0\n",
      "1           rock      0\n",
      "2              ,      0\n",
      "3          lemon      0\n",
      "4          platt      0\n",
      "5              ,      0\n",
      "6         butter      0\n",
      "7         scotch      0\n",
      "8              .      0\n",
      "9              A      0\n",
      "10   sugarsticky      0\n",
      "11          girl      0\n",
      "12    shovelling      0\n",
      "13     scoopfuls      0\n",
      "14            of      0\n",
      "15        creams      1\n",
      "16           for      0\n",
      "17             a      0\n",
      "18     christian      0\n",
      "19       brother      0\n",
      "20             .      0\n",
      "21          Some      0\n",
      "22        school      0\n",
      "23         treat      0\n",
      "24             .      0\n",
      "25           Bad      0\n",
      "26           for      0\n",
      "27         their      0\n",
      "28       tummies      0\n",
      "29             .      0\n",
      "30       Lozenge      0\n",
      "31           and      0\n",
      "32        comfit      0\n",
      "33  manufacturer      0\n",
      "34            to      0\n",
      "35           His      0\n",
      "36       Majesty      0\n",
      "37           the      0\n",
      "38          King      0\n",
      "39             .      0\n",
      "40           God      0\n",
      "41             .      0\n",
      "42          Save      0\n",
      "43             .      0\n",
      "44           Our      0\n",
      "45             .      0\n",
      "46       Sitting      0\n",
      "47            on      0\n",
      "48           his      0\n",
      "49        throne      0\n"
     ]
    }
   ],
   "source": [
    "wdf = pd.DataFrame(columns=['words'],data=words[:50])\n",
    "wdf['cream'] = wdf.apply( lambda x : len( re.findall('cream',x.values[0] ) ), axis=1)\n",
    "print wdf"
   ]
  },
  {
   "cell_type": "code",
   "execution_count": null,
   "metadata": {
    "collapsed": true
   },
   "outputs": [],
   "source": []
  }
 ],
 "metadata": {
  "kernelspec": {
   "display_name": "Python 2",
   "language": "python",
   "name": "python2"
  },
  "language_info": {
   "codemirror_mode": {
    "name": "ipython",
    "version": 2
   },
   "file_extension": ".py",
   "mimetype": "text/x-python",
   "name": "python",
   "nbconvert_exporter": "python",
   "pygments_lexer": "ipython2",
   "version": "2.7.10"
  }
 },
 "nbformat": 4,
 "nbformat_minor": 0
}
